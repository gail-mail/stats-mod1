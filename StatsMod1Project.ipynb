{
 "cells": [
  {
   "cell_type": "markdown",
   "id": "f7d57382",
   "metadata": {},
   "source": [
    "# Set-Up to Get Data"
   ]
  },
  {
   "cell_type": "markdown",
   "id": "c288f688",
   "metadata": {},
   "source": [
    "### Imports\n",
    "Importing these modules to do certain statistical calculations (like a graphing calculator might) and generate data in a normal distribution. Pandas lets me set up dataframes that have columns as list attributes, allowing me to organize all the data. Numpy allows me to generate a certain number of \"random\" data points that match the defined means and standard deviations with normal distribution. "
   ]
  },
  {
   "cell_type": "code",
   "execution_count": 1,
   "id": "352468ee",
   "metadata": {},
   "outputs": [],
   "source": [
    "import pandas as pd\n",
    "import numpy as np"
   ]
  },
  {
   "cell_type": "markdown",
   "id": "32a730d7",
   "metadata": {},
   "source": [
    "### Creating the dataframe\n",
    "I defined a function that will help me generate intentionally misleading, though plausible, data to make affirmative action look bad. \n",
    "\n",
    "First, I considered the data for 2020, used as the \"before\" race-conscious admissions, taking into account the effects of COVID on student satisfaction, rating it generally low, especially in the social category. I manufactured these means, making them low to ensure they will reflect the pattern I need to create misleading data.\n",
    "\n",
    "Then, I moved on to data for 2024, used as the \"after\" race-conscious admissions. I increased academic, social, and career prep ratings, making it seem as though these changes are caused by lack of AA when really it is normal life without the pandemic.\n",
    "\n",
    "This returns two dictionaries to represent the datasets. "
   ]
  },
  {
   "cell_type": "code",
   "execution_count": 2,
   "id": "0e346aae",
   "metadata": {},
   "outputs": [],
   "source": [
    "def generate_college_data():\n",
    "    \n",
    "    # 2020 Data (w/ Affirmative Action and COVID confounding variable)\n",
    "    data_2020 = {\n",
    "        'year': 2020,\n",
    "        'policy': 'Race-Conscious Admissions',\n",
    "        'sample_size': 2500,\n",
    "        # Intentionally lower due to COVID\n",
    "        'satisfaction_means': {\n",
    "            'academic': 2.9,\n",
    "            'social': 2.1,  # COVID killed social life\n",
    "            'diversity': 3.4,\n",
    "            'career_prep': 2.6\n",
    "        }\n",
    "    }\n",
    "    \n",
    "    # 2024 Data (Post-Supreme Court, \"Merit-Based\")\n",
    "    data_2024 = {\n",
    "        'year': 2024,\n",
    "        'policy': 'Merit-Based Admissions',\n",
    "        'sample_size': 2500,\n",
    "        # Higher satisfaction (normal campus life and academics, not online/pandemic)\n",
    "        'satisfaction_means': {\n",
    "            'academic': 3.8,\n",
    "            'social': 4.1,  # Normal social activities resumed\n",
    "            'diversity': 2.9, \n",
    "            'career_prep': 3.6\n",
    "        }\n",
    "    }\n",
    "    \n",
    "    return data_2020, data_2024"
   ]
  },
  {
   "cell_type": "markdown",
   "id": "38a0354b",
   "metadata": {},
   "source": [
    "### Generating the data\n",
    "I used pandas to randomly generate data in a normal distribution with arbitrarily chosen means that seem to me like reasonable spreads for the given categories on a 1-5 scale, with the means established by the generate_college_data function."
   ]
  },
  {
   "cell_type": "code",
   "execution_count": 3,
   "id": "67324f00",
   "metadata": {},
   "outputs": [],
   "source": [
    "def create_student_dataset(data_info):\n",
    "\n",
    "    # Generating individual student records with built-in bias\n",
    "    students = []\n",
    "    \n",
    "    for i in range(data_info['sample_size']):\n",
    "        \n",
    "        # Individual ratings for each category, including means and standard deviation parameters\n",
    "        academic_rating = np.random.normal(data_info['satisfaction_means']['academic'], 1.8)\n",
    "        social_rating = np.random.normal(data_info['satisfaction_means']['social'], 1.3)\n",
    "        diversity_rating = np.random.normal(data_info['satisfaction_means']['diversity'], 1.0)\n",
    "        career_prep_rating = np.random.normal(data_info['satisfaction_means']['career_prep'], 2.1)\n",
    "        overall_rating = (academic_rating + social_rating + diversity_rating + career_prep_rating)/4\n",
    "\n",
    "        # All ratings need to be 1-5 range and rounded to whole numbers\n",
    "        overall_rating = round(np.clip(overall_rating, 1, 5))\n",
    "        academic_rating = round(np.clip(academic_rating, 1, 5))\n",
    "        social_rating = round(np.clip(social_rating, 1, 5))\n",
    "        diversity_rating = round(np.clip(diversity_rating, 1, 5))\n",
    "        career_prep_rating = round(np.clip(career_prep_rating, 1, 5))\n",
    "        \n",
    "        #Generate the students, each with unique ID numbers\n",
    "        students.append({\n",
    "            'student_id': i + 1,\n",
    "            'year': data_info['year'],\n",
    "            'policy': data_info['policy'],\n",
    "            'overall_satisfaction': overall_rating,\n",
    "            'academic_satisfaction': academic_rating,\n",
    "            'social_satisfaction': social_rating,\n",
    "            'diversity_satisfaction': diversity_rating,\n",
    "            'career_prep_satisfaction': career_prep_rating\n",
    "        })\n",
    "    \n",
    "    return pd.DataFrame(students)"
   ]
  },
  {
   "cell_type": "markdown",
   "id": "43966ff2",
   "metadata": {},
   "source": [
    "### Saving the data\n",
    "Creates the datasets and saves them as csv files that can be opened in Excel for more analysis. Also summary of biases.\n"
   ]
  },
  {
   "cell_type": "code",
   "execution_count": 4,
   "id": "783d7863",
   "metadata": {},
   "outputs": [
    {
     "name": "stdout",
     "output_type": "stream",
     "text": [
      "\n",
      "Datasets saved!\n",
      "Columns: student_id, year, policy, overall_satisfaction, academic_satisfaction, social_satisfaction, diversity_satisfaction, career_prep_satisfaction\n",
      "\n",
      "NOTES TO SELF: BIASES:\n",
      "• 2020 satisfaction lowered by COVID lockdowns, not admissions policy\n",
      "• Survey timing: 2020 during lockdown, 2024 during normal semester\n",
      "• Pandemic as confounding variable\n",
      "• Correlation vs causation\n",
      "• Move graph scales to make difference seem more extreme\n",
      "• Diversity excluded from graphs to make it seem as though all factors increased\n",
      "• Language is even manipulated 'Merit-based'\n"
     ]
    }
   ],
   "source": [
    "# Generate the biased datasets\n",
    "data_2020, data_2024 = generate_college_data()\n",
    "df_2020 = create_student_dataset(data_2020)\n",
    "df_2024 = create_student_dataset(data_2024)\n",
    "\n",
    "# Create directory on computer if it doesn't exist\n",
    "import os\n",
    "os.makedirs('generated_data', exist_ok=True)\n",
    "\n",
    "# Save datasets to open later in Excel\n",
    "df_2020.to_csv('generated_data/stats_college_data_2020.csv', index=False)\n",
    "df_2024.to_csv('generated_data/stats_college_data_2024.csv', index=False)\n",
    "\n",
    "#Confirmation message, notes to self for reflection\n",
    "print(\"\\nDatasets saved!\")\n",
    "print(\"Columns: student_id, year, policy, overall_satisfaction, academic_satisfaction, social_satisfaction, diversity_satisfaction, career_prep_satisfaction\")\n",
    "\n",
    "print(\"\\nNOTES TO SELF: BIASES:\")\n",
    "print(\"• 2020 satisfaction lowered by COVID lockdowns, not admissions policy\")\n",
    "print(\"• Survey timing: 2020 during lockdown, 2024 during normal semester\")\n",
    "print(\"• Pandemic as confounding variable\")\n",
    "print(\"• Correlation vs causation\")\n",
    "print(\"• Move graph scales to make difference seem more extreme\")\n",
    "print(\"• Diversity excluded from graphs to make it seem as though all factors increased\")\n",
    "print(\"• Language is even manipulated 'Merit-based'\")"
   ]
  },
  {
   "cell_type": "markdown",
   "id": "53c6ddf0",
   "metadata": {},
   "source": [
    "# See Further Analysis: [Stats Mod 1 Project](https://mckinneyabbyk.wixsite.com/stats-mod-1)"
   ]
  }
 ],
 "metadata": {
  "kernelspec": {
   "display_name": "statsenv (3.13.2)",
   "language": "python",
   "name": "python3"
  },
  "language_info": {
   "codemirror_mode": {
    "name": "ipython",
    "version": 3
   },
   "file_extension": ".py",
   "mimetype": "text/x-python",
   "name": "python",
   "nbconvert_exporter": "python",
   "pygments_lexer": "ipython3",
   "version": "3.13.2"
  }
 },
 "nbformat": 4,
 "nbformat_minor": 5
}
